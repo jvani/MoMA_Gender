{
 "cells": [
  {
   "cell_type": "code",
   "execution_count": 2,
   "metadata": {
    "collapsed": false,
    "scrolled": true
   },
   "outputs": [],
   "source": [
    "import os\n",
    "import datetime\n",
    "import numpy as np\n",
    "import pandas as pd\n",
    "import cufflinks as cf\n",
    "import plotly.tools as tls\n",
    "import plotly.plotly as py\n",
    "import plotly.graph_objs as go\n",
    "import matplotlib.pyplot as pl\n",
    "import statsmodels.formula.api as sm\n",
    "from scipy.interpolate import spline\n",
    "%matplotlib inline\n",
    "\n",
    "tls.set_credentials_file(username='jvani', api_key=os.getenv('PLOTLY_API'))"
   ]
  },
  {
   "cell_type": "code",
   "execution_count": 3,
   "metadata": {
    "collapsed": false,
    "scrolled": true
   },
   "outputs": [
    {
     "data": {
      "text/plain": [
       "Unknown        829\n",
       "n.d.           726\n",
       "early 1940s    152\n",
       "(n.d.)         126\n",
       "early 1930s     97\n",
       "Name: Date, dtype: int64"
      ]
     },
     "execution_count": 3,
     "metadata": {},
     "output_type": "execute_result"
    }
   ],
   "source": [
    "def cleanyears(row):\n",
    "    datestring = str(row['Date'])\n",
    "    datestring = datestring.lstrip('(+.c.,').rstrip(').').strip()\n",
    "    if datestring[-4:].isdigit():\n",
    "        datestring = datestring[-4:]\n",
    "    elif datestring[-2:].isdigit() and datestring[-3] in ['-', '/']:\n",
    "        datestring = datestring[-7:-5] + datestring[-2:]\n",
    "    elif datestring[:4].isdigit():\n",
    "        datestring = datestring[:4]\n",
    "    else:\n",
    "        datestring = 'UNCLEAR_DATE'\n",
    "    if datestring != 'UNCLEAR_DATE' and int(datestring) < 1900:\n",
    "        datestring = '-1899'\n",
    "    return datestring\n",
    "\n",
    "# Load data\n",
    "artists = pd.read_csv('artists.csv')\n",
    "artworks = pd.read_csv('artworks.csv').drop('Artist ID', axis=1)\n",
    "\n",
    "# Clean artwork year data.\n",
    "artworks = artworks[artworks['Acquisition Date'].apply(lambda x: type(x) == str)]\n",
    "artworks['Acquisition Year'] = map(lambda x: x[:4], artworks['Acquisition Date'])\n",
    "artworks['Date_Rev'] = artworks.apply(lambda row: cleanyears(row), axis=1)\n",
    "\n",
    "# Merge artwork and artist data.\n",
    "result = pd.merge(artworks, artists, how='inner', on=['Name'])\n",
    "\n",
    "# Show source of UNCLEAR_DATE entries.\n",
    "result[result['Date_Rev'] == 'UNCLEAR_DATE']['Date'].value_counts()[:5]"
   ]
  },
  {
   "cell_type": "code",
   "execution_count": 4,
   "metadata": {
    "collapsed": false,
    "scrolled": true
   },
   "outputs": [
    {
     "data": {
      "text/plain": [
       "<matplotlib.legend.Legend at 0x117ba6290>"
      ]
     },
     "execution_count": 4,
     "metadata": {},
     "output_type": "execute_result"
    },
    {
     "data": {
      "image/png": "[encoded data removed]",
      "text/plain": [
       "<matplotlib.figure.Figure at 0x110d3d610>"
      ]
     },
     "metadata": {},
     "output_type": "display_data"
    }
   ],
   "source": [
    "# Get gendered counts of artwork by acquisition year.\n",
    "m_acq = result[result['Gender'] == 'Male'].groupby('Acquisition Year').size()\n",
    "f_acq = result[result['Gender'] == 'Female'].groupby('Acquisition Year').size()\n",
    "\n",
    "# Create gendered acquisition DataFrame.\n",
    "gender_acq = pd.concat([m_acq, f_acq], axis=1).fillna(0)\n",
    "gender_acq.columns = ['Male', 'Female']\n",
    "gender_acq['Total'] = gender_acq.Male + gender_acq.Female\n",
    "gender_acq['MalePercent'] = (gender_acq.Male / gender_acq.Total * 100).round(2)\n",
    "gender_acq['FemalePercent'] = (gender_acq.Female / gender_acq.Total * 100).round(2)\n",
    "\n",
    "# Plot figure.\n",
    "fig, (ax1) = pl.subplots(nrows=1, ncols=1, figsize=(18, 4))\n",
    "ax1.tick_params(top='off', bottom='off', left='off', right='off')\n",
    "for spine in fig.gca().spines.values():\n",
    "    spine.set_visible(False)\n",
    "gender_acq[['FemalePercent', 'MalePercent']].plot(\n",
    "    ax=ax1, kind='bar', stacked=True, width=1, alpha=0.8,\n",
    "    color=['#EF5350', '#2196F3'], linewidth=0.15)\n",
    "ax1.set_ylabel('Percent of Artwork Acquired by MoMA by Gender')\n",
    "ax1.set_xlabel('Acquisition Year')\n",
    "ax1.set_title('Percent of Artworks Acquired by MoMA by Gender for Given Acquisition Year')\n",
    "lines, labels = ax1.get_legend_handles_labels()\n",
    "ax1.legend(lines, ['Female', 'Male'], loc=2)"
   ]
  },
  {
   "cell_type": "code",
   "execution_count": 10,
   "metadata": {
    "collapsed": false,
    "scrolled": false
   },
   "outputs": [
    {
     "data": {
      "text/html": [
       "<iframe id=\"igraph\" scrolling=\"no\" style=\"border:none;\" seamless=\"seamless\" src=\"https://plot.ly/~jvani/14.embed\" height=\"525px\" width=\"100%\"></iframe>"
      ],
      "text/plain": [
       "<plotly.tools.PlotlyDisplay object>"
      ]
     },
     "execution_count": 10,
     "metadata": {},
     "output_type": "execute_result"
    }
   ],
   "source": [
    "f_text = ','.join('{}<br>{}'.format(*i) for i in zip(\n",
    "        ['Percent: ' + str(i) + '%' for i in gender_acq.FemalePercent],\n",
    "        ['Acquisitions: ' + str(int(i)) for i in gender_acq.Female])).split(',')\n",
    "m_text = ','.join('{}<br>{}'.format(*i) for i in zip(\n",
    "        ['Percent: ' + str(i) + '%' for i in gender_acq.MalePercent],\n",
    "        ['Acquisitions: ' + str(int(i)) for i in gender_acq.Male])).split(',')\n",
    "\n",
    "f = go.Bar(\n",
    "    x=gender_acq.index,\n",
    "    y=gender_acq.FemalePercent,\n",
    "    name='Female Artists',\n",
    "    marker=dict(color='#EF5350'),\n",
    "    text=f_text,\n",
    "    hoverinfo='x+text',\n",
    "    opacity=0.8\n",
    ")\n",
    "m = go.Bar(\n",
    "    x=gender_acq.index,\n",
    "    y=gender_acq.MalePercent,\n",
    "    name='Male Artists',\n",
    "    marker=dict(color='#2196F3'),\n",
    "    text=m_text,\n",
    "    hoverinfo='x+text',\n",
    "    opacity=0.8\n",
    ")\n",
    "\n",
    "data = [f, m]\n",
    "layout = go.Layout(\n",
    "    barmode='stack',\n",
    "    title='Percent of MoMA Acquisitions by Year',\n",
    "    xaxis=dict(title='Year'),\n",
    "    yaxis=dict(title='Percent of MoMA Acquisitions')\n",
    "    \n",
    ")\n",
    "\n",
    "fig = go.Figure(data=data, layout=layout)\n",
    "py.iplot(fig, filename='MOMA_Acquisition')"
   ]
  },
  {
   "cell_type": "code",
   "execution_count": 6,
   "metadata": {
    "collapsed": false,
    "scrolled": false
   },
   "outputs": [
    {
     "data": {
      "text/plain": [
       "<matplotlib.legend.Legend at 0x11aabb510>"
      ]
     },
     "execution_count": 6,
     "metadata": {},
     "output_type": "execute_result"
    },
    {
     "data": {
      "image/png": "[encoded data removed]",
      "text/plain": [
       "<matplotlib.figure.Figure at 0x117953f90>"
      ]
     },
     "metadata": {},
     "output_type": "display_data"
    }
   ],
   "source": [
    "# Get gendered counts of artwork by year.\n",
    "m_art = result[result['Gender'] == 'Male'].groupby('Date_Rev').size()\n",
    "f_art = result[result['Gender'] == 'Female'].groupby('Date_Rev').size()\n",
    "\n",
    "# Create gendered year DataFrame.\n",
    "gender_art = pd.concat([m_art, f_art], axis=1).fillna(0)\n",
    "gender_art.columns = ['Male', 'Female']\n",
    "gender_art['Total'] = gender_art.Male + gender_art.Female\n",
    "gender_art['MalePercent'] = (gender_art.Male / gender_art.Total * 100).round(2)\n",
    "gender_art['FemalePercent'] = (gender_art.Female / gender_art.Total * 100).round(2)\n",
    "\n",
    "# Query out some stuff.\n",
    "gender_art = gender_art.loc[~gender_art.index.isin(['UNCLEAR_DATE', '-1899', '2017'])]\n",
    "\n",
    "# Plot figure.\n",
    "fig, (ax1) = pl.subplots(nrows=1, ncols=1, figsize=(22, 4))\n",
    "ax1.tick_params(top='off', bottom='off', left='off', right='off')\n",
    "for spine in fig.gca().spines.values():\n",
    "    spine.set_visible(False)\n",
    "gender_art[['FemalePercent', 'MalePercent']].plot(\n",
    "    ax=ax1, kind='bar', stacked=True, width=1, alpha=0.8,\n",
    "    color=['#EF5350', '#2196F3'], linewidth=0.15)\n",
    "ax1.set_ylabel('Percent of Artworks in MoMA by Gender')\n",
    "ax1.set_xlabel('Artwork Year')\n",
    "ax1.set_title('Percent of Artworks in MoMA by Gender for Given Artwork Year')\n",
    "lines, labels = ax1.get_legend_handles_labels()\n",
    "ax1.legend(lines, ['Female', 'Male'], loc=2)"
   ]
  },
  {
   "cell_type": "code",
   "execution_count": 13,
   "metadata": {
    "collapsed": false,
    "scrolled": false
   },
   "outputs": [
    {
     "data": {
      "text/html": [
       "<iframe id=\"igraph\" scrolling=\"no\" style=\"border:none;\" seamless=\"seamless\" src=\"https://plot.ly/~jvani/16.embed\" height=\"525px\" width=\"100%\"></iframe>"
      ],
      "text/plain": [
       "<plotly.tools.PlotlyDisplay object>"
      ]
     },
     "execution_count": 13,
     "metadata": {},
     "output_type": "execute_result"
    }
   ],
   "source": [
    "f_text = ','.join('{}<br>{}'.format(*i) for i in zip(\n",
    "        ['Percent: ' + str(i) + '%' for i in gender_art.FemalePercent],\n",
    "        ['Artworks: ' + str(int(i)) for i in gender_art.Female])).split(',')\n",
    "m_text = ','.join('{}<br>{}'.format(*i) for i in zip(\n",
    "        ['Percent: ' + str(i) + '%' for i in gender_art.MalePercent],\n",
    "        ['Artworks: ' + str(int(i)) for i in gender_art.Male])).split(',')\n",
    "\n",
    "f = go.Bar(\n",
    "    x=gender_art.index,\n",
    "    y=gender_art.FemalePercent,\n",
    "    name='Female Artists',\n",
    "    marker=dict(color='#EF5350'),\n",
    "    text=f_text,\n",
    "    hoverinfo='x+text',\n",
    "    opacity=0.8\n",
    ")\n",
    "m = go.Bar(\n",
    "    x=gender_art.index,\n",
    "    y=gender_art.MalePercent,\n",
    "    name='Male Artists',\n",
    "    marker=dict(color='#2196F3'),\n",
    "    text=m_text,\n",
    "    hoverinfo='x+text',\n",
    "    opacity=0.8\n",
    ")\n",
    "\n",
    "data = [f, m]\n",
    "layout = go.Layout(\n",
    "    barmode='stack',\n",
    "    title='Percent of MoMA Artwork by Year',\n",
    "    xaxis=dict(title='Year'),\n",
    "    yaxis=dict(title='Percent of MoMA Artwork')  \n",
    ")\n",
    "\n",
    "fig = go.Figure(data=data, layout=layout)\n",
    "py.iplot(fig, filename='MOMA_ArtYear')"
   ]
  },
  {
   "cell_type": "code",
   "execution_count": 8,
   "metadata": {
    "collapsed": false,
    "scrolled": false
   },
   "outputs": [
    {
     "data": {
      "text/html": [
       "<table class=\"simpletable\">\n",
       "<caption>OLS Regression Results</caption>\n",
       "<tr>\n",
       "  <th>Dep. Variable:</th>      <td>FemalePercent</td>  <th>  R-squared:         </th> <td>   0.235</td>\n",
       "</tr>\n",
       "<tr>\n",
       "  <th>Model:</th>                   <td>OLS</td>       <th>  Adj. R-squared:    </th> <td>   0.196</td>\n",
       "</tr>\n",
       "<tr>\n",
       "  <th>Method:</th>             <td>Least Squares</td>  <th>  F-statistic:       </th> <td>   6.133</td>\n",
       "</tr>\n",
       "<tr>\n",
       "  <th>Date:</th>             <td>Thu, 16 Mar 2017</td> <th>  Prob (F-statistic):</th>  <td>0.0223</td> \n",
       "</tr>\n",
       "<tr>\n",
       "  <th>Time:</th>                 <td>14:29:13</td>     <th>  Log-Likelihood:    </th> <td> -77.104</td>\n",
       "</tr>\n",
       "<tr>\n",
       "  <th>No. Observations:</th>      <td>    22</td>      <th>  AIC:               </th> <td>   158.2</td>\n",
       "</tr>\n",
       "<tr>\n",
       "  <th>Df Residuals:</th>          <td>    20</td>      <th>  BIC:               </th> <td>   160.4</td>\n",
       "</tr>\n",
       "<tr>\n",
       "  <th>Df Model:</th>              <td>     1</td>      <th>                     </th>     <td> </td>   \n",
       "</tr>\n",
       "<tr>\n",
       "  <th>Covariance Type:</th>      <td>nonrobust</td>    <th>                     </th>     <td> </td>   \n",
       "</tr>\n",
       "</table>\n",
       "<table class=\"simpletable\">\n",
       "<tr>\n",
       "      <td></td>         <th>coef</th>     <th>std err</th>      <th>t</th>      <th>P>|t|</th> <th>[95.0% Conf. Int.]</th> \n",
       "</tr>\n",
       "<tr>\n",
       "  <th>Intercept</th> <td> 1444.1771</td> <td>  569.089</td> <td>    2.538</td> <td> 0.020</td> <td>  257.079  2631.275</td>\n",
       "</tr>\n",
       "<tr>\n",
       "  <th>Year</th>      <td>   -0.7027</td> <td>    0.284</td> <td>   -2.477</td> <td> 0.022</td> <td>   -1.295    -0.111</td>\n",
       "</tr>\n",
       "</table>\n",
       "<table class=\"simpletable\">\n",
       "<tr>\n",
       "  <th>Omnibus:</th>       <td> 2.031</td> <th>  Durbin-Watson:     </th> <td>   2.777</td>\n",
       "</tr>\n",
       "<tr>\n",
       "  <th>Prob(Omnibus):</th> <td> 0.362</td> <th>  Jarque-Bera (JB):  </th> <td>   1.438</td>\n",
       "</tr>\n",
       "<tr>\n",
       "  <th>Skew:</th>          <td> 0.411</td> <th>  Prob(JB):          </th> <td>   0.487</td>\n",
       "</tr>\n",
       "<tr>\n",
       "  <th>Kurtosis:</th>      <td> 2.056</td> <th>  Cond. No.          </th> <td>6.34e+05</td>\n",
       "</tr>\n",
       "</table>"
      ],
      "text/plain": [
       "<class 'statsmodels.iolib.summary.Summary'>\n",
       "\"\"\"\n",
       "                            OLS Regression Results                            \n",
       "==============================================================================\n",
       "Dep. Variable:          FemalePercent   R-squared:                       0.235\n",
       "Model:                            OLS   Adj. R-squared:                  0.196\n",
       "Method:                 Least Squares   F-statistic:                     6.133\n",
       "Date:                Thu, 16 Mar 2017   Prob (F-statistic):             0.0223\n",
       "Time:                        14:29:13   Log-Likelihood:                -77.104\n",
       "No. Observations:                  22   AIC:                             158.2\n",
       "Df Residuals:                      20   BIC:                             160.4\n",
       "Df Model:                           1                                         \n",
       "Covariance Type:            nonrobust                                         \n",
       "==============================================================================\n",
       "                 coef    std err          t      P>|t|      [95.0% Conf. Int.]\n",
       "------------------------------------------------------------------------------\n",
       "Intercept   1444.1771    569.089      2.538      0.020       257.079  2631.275\n",
       "Year          -0.7027      0.284     -2.477      0.022        -1.295    -0.111\n",
       "==============================================================================\n",
       "Omnibus:                        2.031   Durbin-Watson:                   2.777\n",
       "Prob(Omnibus):                  0.362   Jarque-Bera (JB):                1.438\n",
       "Skew:                           0.411   Prob(JB):                        0.487\n",
       "Kurtosis:                       2.056   Cond. No.                     6.34e+05\n",
       "==============================================================================\n",
       "\n",
       "Warnings:\n",
       "[1] Standard Errors assume that the covariance matrix of the errors is correctly specified.\n",
       "[2] The condition number is large, 6.34e+05. This might indicate that there are\n",
       "strong multicollinearity or other numerical problems.\n",
       "\"\"\""
      ]
     },
     "execution_count": 8,
     "metadata": {},
     "output_type": "execute_result"
    }
   ],
   "source": [
    "gender_Lowry = gender_art.reset_index().rename(columns={'index': 'Year'})\n",
    "gender_Lowry.Year = gender_Lowry.Year.astype('float64')\n",
    "gender_Lowry = gender_Lowry[gender_Lowry.Year > 1994]\n",
    "\n",
    "reg = sm.ols('FemalePercent ~ Year', data=gender_Lowry).fit()\n",
    "reg.summary()"
   ]
  },
  {
   "cell_type": "code",
   "execution_count": 60,
   "metadata": {
    "collapsed": false
   },
   "outputs": [
    {
     "name": "stdout",
     "output_type": "stream",
     "text": [
      "Percent Women 90s: 34.87 | Pieces: 2929 | Total: 8400\n",
      "Percent Women 00s: 35.92 | Pieces: 3293 | Total: 9167\n",
      "Percent Women 10s: 28.62 | Pieces: 595 | Total: 2079\n"
     ]
    }
   ],
   "source": [
    "# Query out unclear years.\n",
    "results = result.loc[~result.Date_Rev.isin(['UNCLEAR_DATE', '-1899', '2017'])].copy()\n",
    "results.Date_Rev = results.Date_Rev.astype(int)\n",
    "dec_90s = results[(results['Date_Rev'] > 1989) & (results['Date_Rev'] < 2000)].groupby('Gender').size()\n",
    "dec_00s = results[(results['Date_Rev'] > 1999) & (results['Date_Rev'] < 2010)].groupby('Gender').size()\n",
    "dec_10s = results[(results['Date_Rev'] > 2009) & (results['Date_Rev'] < 2020)].groupby('Gender').size()\n",
    "\n",
    "def calcpercentwom(series):\n",
    "    return float(series.Female) / sum(series) * 100\n",
    "\n",
    "print 'Percent Women 90s: {} | Pieces: {} | Total: {}'.format(\n",
    "    round(calcpercentwom(dec_90s), 2), dec_90s.Female, sum(dec_90s))\n",
    "print 'Percent Women 00s: {} | Pieces: {} | Total: {}'.format(\n",
    "    round(calcpercentwom(dec_00s), 2), dec_00s.Female, sum(dec_00s))\n",
    "print 'Percent Women 10s: {} | Pieces: {} | Total: {}'.format(\n",
    "    round(calcpercentwom(dec_10s), 2), dec_10s.Female, sum(dec_10s))"
   ]
  },
  {
   "cell_type": "code",
   "execution_count": null,
   "metadata": {
    "collapsed": true
   },
   "outputs": [],
   "source": []
  }
 ],
 "metadata": {
  "kernelspec": {
   "display_name": "Python 2",
   "language": "python",
   "name": "python2"
  },
  "language_info": {
   "codemirror_mode": {
    "name": "ipython",
    "version": 2
   },
   "file_extension": ".py",
   "mimetype": "text/x-python",
   "name": "python",
   "nbconvert_exporter": "python",
   "pygments_lexer": "ipython2",
   "version": "2.7.12"
  }
 },
 "nbformat": 4,
 "nbformat_minor": 1
}
